{
 "cells": [
  {
   "cell_type": "code",
   "execution_count": 3,
   "id": "dfa47fca",
   "metadata": {},
   "outputs": [],
   "source": [
    "#Importamos las librerias a utilizar\n",
    "import pandas as pd\n",
    "import matplotlib.pyplot as plt\n",
    "import seaborn as sns"
   ]
  },
  {
   "cell_type": "markdown",
   "id": "f187ff2c",
   "metadata": {},
   "source": [
    "# Importar librerías necesarias\n",
    "import pandas as pd\n",
    "import numpy as np\n",
    "from sklearn.model_selection import train_test_split\n",
    "from sklearn.preprocessing import OneHotEncoder, StandardScaler\n",
    "from sklearn.impute import KNNImputer\n",
    "from sklearn.tree import DecisionTreeClassifier\n",
    "from sklearn.metrics import classification_report, roc_auc_score, accuracy_score, confusion_matrix\n",
    "from imblearn.over_sampling import SMOTE\n",
    "from sklearn.model_selection import "
   ]
  },
  {
   "cell_type": "markdown",
   "id": "5d6a8d0f",
   "metadata": {},
   "source": [
    "Cargo dataset de Fraudes financieros"
   ]
  },
  {
   "cell_type": "code",
   "execution_count": 4,
   "id": "cb4676cf",
   "metadata": {},
   "outputs": [],
   "source": [
    "df_fraud = pd.read_csv (\"C:/Users/maria/Downloads/fraud_detection_dataset.csv\", sep=\",\")"
   ]
  },
  {
   "cell_type": "markdown",
   "id": "66b44fb7",
   "metadata": {},
   "source": [
    "**Exploracion de datos**"
   ]
  },
  {
   "cell_type": "code",
   "execution_count": 5,
   "id": "96668b88",
   "metadata": {},
   "outputs": [
    {
     "data": {
      "text/html": [
       "<div>\n",
       "<style scoped>\n",
       "    .dataframe tbody tr th:only-of-type {\n",
       "        vertical-align: middle;\n",
       "    }\n",
       "\n",
       "    .dataframe tbody tr th {\n",
       "        vertical-align: top;\n",
       "    }\n",
       "\n",
       "    .dataframe thead th {\n",
       "        text-align: right;\n",
       "    }\n",
       "</style>\n",
       "<table border=\"1\" class=\"dataframe\">\n",
       "  <thead>\n",
       "    <tr style=\"text-align: right;\">\n",
       "      <th></th>\n",
       "      <th>step</th>\n",
       "      <th>type</th>\n",
       "      <th>amount</th>\n",
       "      <th>nameOrig</th>\n",
       "      <th>oldbalanceOrg</th>\n",
       "      <th>newbalanceOrig</th>\n",
       "      <th>nameDest</th>\n",
       "      <th>oldbalanceDest</th>\n",
       "      <th>newbalanceDest</th>\n",
       "      <th>isFraud</th>\n",
       "      <th>isFlaggedFraud</th>\n",
       "    </tr>\n",
       "  </thead>\n",
       "  <tbody>\n",
       "    <tr>\n",
       "      <th>4589407</th>\n",
       "      <td>328</td>\n",
       "      <td>CASH_IN</td>\n",
       "      <td>168287.06</td>\n",
       "      <td>C91026896</td>\n",
       "      <td>1223809.43</td>\n",
       "      <td>1392096.49</td>\n",
       "      <td>C1759260321</td>\n",
       "      <td>547257.40</td>\n",
       "      <td>378970.34</td>\n",
       "      <td>0</td>\n",
       "      <td>0</td>\n",
       "    </tr>\n",
       "    <tr>\n",
       "      <th>2337899</th>\n",
       "      <td>189</td>\n",
       "      <td>CASH_OUT</td>\n",
       "      <td>129654.09</td>\n",
       "      <td>C639643188</td>\n",
       "      <td>0.00</td>\n",
       "      <td>0.00</td>\n",
       "      <td>C1281282226</td>\n",
       "      <td>3927204.40</td>\n",
       "      <td>4056858.49</td>\n",
       "      <td>0</td>\n",
       "      <td>0</td>\n",
       "    </tr>\n",
       "    <tr>\n",
       "      <th>1136043</th>\n",
       "      <td>131</td>\n",
       "      <td>CASH_OUT</td>\n",
       "      <td>85710.48</td>\n",
       "      <td>C260381883</td>\n",
       "      <td>54078.00</td>\n",
       "      <td>0.00</td>\n",
       "      <td>C955352041</td>\n",
       "      <td>2663904.19</td>\n",
       "      <td>2749614.67</td>\n",
       "      <td>0</td>\n",
       "      <td>0</td>\n",
       "    </tr>\n",
       "    <tr>\n",
       "      <th>149991</th>\n",
       "      <td>12</td>\n",
       "      <td>TRANSFER</td>\n",
       "      <td>549708.37</td>\n",
       "      <td>C356675652</td>\n",
       "      <td>0.00</td>\n",
       "      <td>0.00</td>\n",
       "      <td>C1346067945</td>\n",
       "      <td>1001176.50</td>\n",
       "      <td>1550884.87</td>\n",
       "      <td>0</td>\n",
       "      <td>0</td>\n",
       "    </tr>\n",
       "    <tr>\n",
       "      <th>5859138</th>\n",
       "      <td>402</td>\n",
       "      <td>CASH_OUT</td>\n",
       "      <td>142187.27</td>\n",
       "      <td>C962902534</td>\n",
       "      <td>246368.00</td>\n",
       "      <td>104180.73</td>\n",
       "      <td>C1845869240</td>\n",
       "      <td>1910507.09</td>\n",
       "      <td>1973801.49</td>\n",
       "      <td>0</td>\n",
       "      <td>0</td>\n",
       "    </tr>\n",
       "    <tr>\n",
       "      <th>4018142</th>\n",
       "      <td>299</td>\n",
       "      <td>CASH_OUT</td>\n",
       "      <td>326908.93</td>\n",
       "      <td>C1810048573</td>\n",
       "      <td>0.00</td>\n",
       "      <td>0.00</td>\n",
       "      <td>C88509640</td>\n",
       "      <td>700726.42</td>\n",
       "      <td>1027635.35</td>\n",
       "      <td>0</td>\n",
       "      <td>0</td>\n",
       "    </tr>\n",
       "    <tr>\n",
       "      <th>583737</th>\n",
       "      <td>33</td>\n",
       "      <td>PAYMENT</td>\n",
       "      <td>26750.88</td>\n",
       "      <td>C1408053809</td>\n",
       "      <td>58626.80</td>\n",
       "      <td>31875.91</td>\n",
       "      <td>M328992798</td>\n",
       "      <td>0.00</td>\n",
       "      <td>0.00</td>\n",
       "      <td>0</td>\n",
       "      <td>0</td>\n",
       "    </tr>\n",
       "    <tr>\n",
       "      <th>4444663</th>\n",
       "      <td>323</td>\n",
       "      <td>CASH_OUT</td>\n",
       "      <td>281359.00</td>\n",
       "      <td>C212539798</td>\n",
       "      <td>0.00</td>\n",
       "      <td>0.00</td>\n",
       "      <td>C576951875</td>\n",
       "      <td>704468.03</td>\n",
       "      <td>985827.03</td>\n",
       "      <td>0</td>\n",
       "      <td>0</td>\n",
       "    </tr>\n",
       "    <tr>\n",
       "      <th>2897799</th>\n",
       "      <td>228</td>\n",
       "      <td>CASH_IN</td>\n",
       "      <td>31629.47</td>\n",
       "      <td>C1615052514</td>\n",
       "      <td>6141960.18</td>\n",
       "      <td>6173589.65</td>\n",
       "      <td>C1173083566</td>\n",
       "      <td>905985.34</td>\n",
       "      <td>874355.88</td>\n",
       "      <td>0</td>\n",
       "      <td>0</td>\n",
       "    </tr>\n",
       "    <tr>\n",
       "      <th>5096111</th>\n",
       "      <td>355</td>\n",
       "      <td>CASH_OUT</td>\n",
       "      <td>52030.17</td>\n",
       "      <td>C751761887</td>\n",
       "      <td>0.00</td>\n",
       "      <td>0.00</td>\n",
       "      <td>C878512133</td>\n",
       "      <td>2992327.27</td>\n",
       "      <td>3044357.44</td>\n",
       "      <td>0</td>\n",
       "      <td>0</td>\n",
       "    </tr>\n",
       "  </tbody>\n",
       "</table>\n",
       "</div>"
      ],
      "text/plain": [
       "         step      type     amount     nameOrig  oldbalanceOrg  \\\n",
       "4589407   328   CASH_IN  168287.06    C91026896     1223809.43   \n",
       "2337899   189  CASH_OUT  129654.09   C639643188           0.00   \n",
       "1136043   131  CASH_OUT   85710.48   C260381883       54078.00   \n",
       "149991     12  TRANSFER  549708.37   C356675652           0.00   \n",
       "5859138   402  CASH_OUT  142187.27   C962902534      246368.00   \n",
       "4018142   299  CASH_OUT  326908.93  C1810048573           0.00   \n",
       "583737     33   PAYMENT   26750.88  C1408053809       58626.80   \n",
       "4444663   323  CASH_OUT  281359.00   C212539798           0.00   \n",
       "2897799   228   CASH_IN   31629.47  C1615052514     6141960.18   \n",
       "5096111   355  CASH_OUT   52030.17   C751761887           0.00   \n",
       "\n",
       "         newbalanceOrig     nameDest  oldbalanceDest  newbalanceDest  isFraud  \\\n",
       "4589407      1392096.49  C1759260321       547257.40       378970.34        0   \n",
       "2337899            0.00  C1281282226      3927204.40      4056858.49        0   \n",
       "1136043            0.00   C955352041      2663904.19      2749614.67        0   \n",
       "149991             0.00  C1346067945      1001176.50      1550884.87        0   \n",
       "5859138       104180.73  C1845869240      1910507.09      1973801.49        0   \n",
       "4018142            0.00    C88509640       700726.42      1027635.35        0   \n",
       "583737         31875.91   M328992798            0.00            0.00        0   \n",
       "4444663            0.00   C576951875       704468.03       985827.03        0   \n",
       "2897799      6173589.65  C1173083566       905985.34       874355.88        0   \n",
       "5096111            0.00   C878512133      2992327.27      3044357.44        0   \n",
       "\n",
       "         isFlaggedFraud  \n",
       "4589407               0  \n",
       "2337899               0  \n",
       "1136043               0  \n",
       "149991                0  \n",
       "5859138               0  \n",
       "4018142               0  \n",
       "583737                0  \n",
       "4444663               0  \n",
       "2897799               0  \n",
       "5096111               0  "
      ]
     },
     "execution_count": 5,
     "metadata": {},
     "output_type": "execute_result"
    }
   ],
   "source": [
    "df_fraud.sample(10)"
   ]
  },
  {
   "cell_type": "code",
   "execution_count": 6,
   "id": "980dacf7",
   "metadata": {
    "scrolled": true
   },
   "outputs": [
    {
     "data": {
      "text/html": [
       "<div>\n",
       "<style scoped>\n",
       "    .dataframe tbody tr th:only-of-type {\n",
       "        vertical-align: middle;\n",
       "    }\n",
       "\n",
       "    .dataframe tbody tr th {\n",
       "        vertical-align: top;\n",
       "    }\n",
       "\n",
       "    .dataframe thead th {\n",
       "        text-align: right;\n",
       "    }\n",
       "</style>\n",
       "<table border=\"1\" class=\"dataframe\">\n",
       "  <thead>\n",
       "    <tr style=\"text-align: right;\">\n",
       "      <th></th>\n",
       "      <th>step</th>\n",
       "      <th>type</th>\n",
       "      <th>amount</th>\n",
       "      <th>nameOrig</th>\n",
       "      <th>oldbalanceOrg</th>\n",
       "      <th>newbalanceOrig</th>\n",
       "      <th>nameDest</th>\n",
       "      <th>oldbalanceDest</th>\n",
       "      <th>newbalanceDest</th>\n",
       "      <th>isFraud</th>\n",
       "      <th>isFlaggedFraud</th>\n",
       "    </tr>\n",
       "  </thead>\n",
       "  <tbody>\n",
       "    <tr>\n",
       "      <th>0</th>\n",
       "      <td>1</td>\n",
       "      <td>PAYMENT</td>\n",
       "      <td>9839.64</td>\n",
       "      <td>C1231006815</td>\n",
       "      <td>170136.0</td>\n",
       "      <td>160296.36</td>\n",
       "      <td>M1979787155</td>\n",
       "      <td>0.0</td>\n",
       "      <td>0.0</td>\n",
       "      <td>0</td>\n",
       "      <td>0</td>\n",
       "    </tr>\n",
       "    <tr>\n",
       "      <th>1</th>\n",
       "      <td>1</td>\n",
       "      <td>PAYMENT</td>\n",
       "      <td>1864.28</td>\n",
       "      <td>C1666544295</td>\n",
       "      <td>21249.0</td>\n",
       "      <td>19384.72</td>\n",
       "      <td>M2044282225</td>\n",
       "      <td>0.0</td>\n",
       "      <td>0.0</td>\n",
       "      <td>0</td>\n",
       "      <td>0</td>\n",
       "    </tr>\n",
       "    <tr>\n",
       "      <th>2</th>\n",
       "      <td>1</td>\n",
       "      <td>TRANSFER</td>\n",
       "      <td>181.00</td>\n",
       "      <td>C1305486145</td>\n",
       "      <td>181.0</td>\n",
       "      <td>0.00</td>\n",
       "      <td>C553264065</td>\n",
       "      <td>0.0</td>\n",
       "      <td>0.0</td>\n",
       "      <td>1</td>\n",
       "      <td>0</td>\n",
       "    </tr>\n",
       "    <tr>\n",
       "      <th>3</th>\n",
       "      <td>1</td>\n",
       "      <td>CASH_OUT</td>\n",
       "      <td>181.00</td>\n",
       "      <td>C840083671</td>\n",
       "      <td>181.0</td>\n",
       "      <td>0.00</td>\n",
       "      <td>C38997010</td>\n",
       "      <td>21182.0</td>\n",
       "      <td>0.0</td>\n",
       "      <td>1</td>\n",
       "      <td>0</td>\n",
       "    </tr>\n",
       "    <tr>\n",
       "      <th>4</th>\n",
       "      <td>1</td>\n",
       "      <td>PAYMENT</td>\n",
       "      <td>11668.14</td>\n",
       "      <td>C2048537720</td>\n",
       "      <td>41554.0</td>\n",
       "      <td>29885.86</td>\n",
       "      <td>M1230701703</td>\n",
       "      <td>0.0</td>\n",
       "      <td>0.0</td>\n",
       "      <td>0</td>\n",
       "      <td>0</td>\n",
       "    </tr>\n",
       "  </tbody>\n",
       "</table>\n",
       "</div>"
      ],
      "text/plain": [
       "   step      type    amount     nameOrig  oldbalanceOrg  newbalanceOrig  \\\n",
       "0     1   PAYMENT   9839.64  C1231006815       170136.0       160296.36   \n",
       "1     1   PAYMENT   1864.28  C1666544295        21249.0        19384.72   \n",
       "2     1  TRANSFER    181.00  C1305486145          181.0            0.00   \n",
       "3     1  CASH_OUT    181.00   C840083671          181.0            0.00   \n",
       "4     1   PAYMENT  11668.14  C2048537720        41554.0        29885.86   \n",
       "\n",
       "      nameDest  oldbalanceDest  newbalanceDest  isFraud  isFlaggedFraud  \n",
       "0  M1979787155             0.0             0.0        0               0  \n",
       "1  M2044282225             0.0             0.0        0               0  \n",
       "2   C553264065             0.0             0.0        1               0  \n",
       "3    C38997010         21182.0             0.0        1               0  \n",
       "4  M1230701703             0.0             0.0        0               0  "
      ]
     },
     "execution_count": 6,
     "metadata": {},
     "output_type": "execute_result"
    }
   ],
   "source": [
    "df_fraud.head()"
   ]
  },
  {
   "cell_type": "markdown",
   "id": "d74ed7fd",
   "metadata": {},
   "source": [
    "analisamos la cantidad de filas y columnas de nuestro dataset"
   ]
  },
  {
   "cell_type": "code",
   "execution_count": 7,
   "id": "07d1eafc",
   "metadata": {},
   "outputs": [
    {
     "name": "stdout",
     "output_type": "stream",
     "text": [
      "(6362620, 11)\n"
     ]
    }
   ],
   "source": [
    "print(df_fraud.shape)"
   ]
  },
  {
   "cell_type": "markdown",
   "id": "c82d3142",
   "metadata": {},
   "source": [
    "visualizamos los tipos de datos en cada columna"
   ]
  },
  {
   "cell_type": "code",
   "execution_count": 8,
   "id": "236aa98e",
   "metadata": {
    "scrolled": true
   },
   "outputs": [
    {
     "data": {
      "text/plain": [
       "step                int64\n",
       "type               object\n",
       "amount            float64\n",
       "nameOrig           object\n",
       "oldbalanceOrg     float64\n",
       "newbalanceOrig    float64\n",
       "nameDest           object\n",
       "oldbalanceDest    float64\n",
       "newbalanceDest    float64\n",
       "isFraud             int64\n",
       "isFlaggedFraud      int64\n",
       "dtype: object"
      ]
     },
     "execution_count": 8,
     "metadata": {},
     "output_type": "execute_result"
    }
   ],
   "source": [
    "df_fraud.dtypes"
   ]
  },
  {
   "cell_type": "markdown",
   "id": "bd91877a",
   "metadata": {},
   "source": [
    "aislo columnas que no voy a utilizar"
   ]
  },
  {
   "cell_type": "code",
   "execution_count": 9,
   "id": "5e626c8a",
   "metadata": {},
   "outputs": [],
   "source": [
    "df_fraud = df_fraud.drop(\"type\", axis = 1)"
   ]
  },
  {
   "cell_type": "code",
   "execution_count": 10,
   "id": "813a2183",
   "metadata": {},
   "outputs": [],
   "source": [
    "df_fraud = df_fraud.drop(\"nameOrig\", axis = 1)"
   ]
  },
  {
   "cell_type": "code",
   "execution_count": 11,
   "id": "d9ebefcb",
   "metadata": {},
   "outputs": [],
   "source": [
    "df_fraude = df_fraud.drop(\"nameDest\", axis = 1)"
   ]
  },
  {
   "cell_type": "markdown",
   "id": "e0e04864",
   "metadata": {},
   "source": [
    "vemos como se compone en nuevo dataset"
   ]
  },
  {
   "cell_type": "code",
   "execution_count": 12,
   "id": "79e1512e",
   "metadata": {},
   "outputs": [
    {
     "data": {
      "text/html": [
       "<div>\n",
       "<style scoped>\n",
       "    .dataframe tbody tr th:only-of-type {\n",
       "        vertical-align: middle;\n",
       "    }\n",
       "\n",
       "    .dataframe tbody tr th {\n",
       "        vertical-align: top;\n",
       "    }\n",
       "\n",
       "    .dataframe thead th {\n",
       "        text-align: right;\n",
       "    }\n",
       "</style>\n",
       "<table border=\"1\" class=\"dataframe\">\n",
       "  <thead>\n",
       "    <tr style=\"text-align: right;\">\n",
       "      <th></th>\n",
       "      <th>step</th>\n",
       "      <th>amount</th>\n",
       "      <th>oldbalanceOrg</th>\n",
       "      <th>newbalanceOrig</th>\n",
       "      <th>oldbalanceDest</th>\n",
       "      <th>newbalanceDest</th>\n",
       "      <th>isFraud</th>\n",
       "      <th>isFlaggedFraud</th>\n",
       "    </tr>\n",
       "  </thead>\n",
       "  <tbody>\n",
       "    <tr>\n",
       "      <th>0</th>\n",
       "      <td>1</td>\n",
       "      <td>9839.64</td>\n",
       "      <td>170136.0</td>\n",
       "      <td>160296.36</td>\n",
       "      <td>0.0</td>\n",
       "      <td>0.0</td>\n",
       "      <td>0</td>\n",
       "      <td>0</td>\n",
       "    </tr>\n",
       "    <tr>\n",
       "      <th>1</th>\n",
       "      <td>1</td>\n",
       "      <td>1864.28</td>\n",
       "      <td>21249.0</td>\n",
       "      <td>19384.72</td>\n",
       "      <td>0.0</td>\n",
       "      <td>0.0</td>\n",
       "      <td>0</td>\n",
       "      <td>0</td>\n",
       "    </tr>\n",
       "    <tr>\n",
       "      <th>2</th>\n",
       "      <td>1</td>\n",
       "      <td>181.00</td>\n",
       "      <td>181.0</td>\n",
       "      <td>0.00</td>\n",
       "      <td>0.0</td>\n",
       "      <td>0.0</td>\n",
       "      <td>1</td>\n",
       "      <td>0</td>\n",
       "    </tr>\n",
       "    <tr>\n",
       "      <th>3</th>\n",
       "      <td>1</td>\n",
       "      <td>181.00</td>\n",
       "      <td>181.0</td>\n",
       "      <td>0.00</td>\n",
       "      <td>21182.0</td>\n",
       "      <td>0.0</td>\n",
       "      <td>1</td>\n",
       "      <td>0</td>\n",
       "    </tr>\n",
       "    <tr>\n",
       "      <th>4</th>\n",
       "      <td>1</td>\n",
       "      <td>11668.14</td>\n",
       "      <td>41554.0</td>\n",
       "      <td>29885.86</td>\n",
       "      <td>0.0</td>\n",
       "      <td>0.0</td>\n",
       "      <td>0</td>\n",
       "      <td>0</td>\n",
       "    </tr>\n",
       "  </tbody>\n",
       "</table>\n",
       "</div>"
      ],
      "text/plain": [
       "   step    amount  oldbalanceOrg  newbalanceOrig  oldbalanceDest  \\\n",
       "0     1   9839.64       170136.0       160296.36             0.0   \n",
       "1     1   1864.28        21249.0        19384.72             0.0   \n",
       "2     1    181.00          181.0            0.00             0.0   \n",
       "3     1    181.00          181.0            0.00         21182.0   \n",
       "4     1  11668.14        41554.0        29885.86             0.0   \n",
       "\n",
       "   newbalanceDest  isFraud  isFlaggedFraud  \n",
       "0             0.0        0               0  \n",
       "1             0.0        0               0  \n",
       "2             0.0        1               0  \n",
       "3             0.0        1               0  \n",
       "4             0.0        0               0  "
      ]
     },
     "execution_count": 12,
     "metadata": {},
     "output_type": "execute_result"
    }
   ],
   "source": [
    "df_fraude.head()"
   ]
  },
  {
   "cell_type": "markdown",
   "id": "0ba5f06a",
   "metadata": {},
   "source": [
    "entrenamiento del modelo con Random Forest"
   ]
  },
  {
   "cell_type": "code",
   "execution_count": 13,
   "id": "35d0985d",
   "metadata": {},
   "outputs": [],
   "source": [
    "X = df_fraude.drop(\"isFraud\", axis = 1)\n",
    "y = df_fraude[\"isFraud\"]"
   ]
  },
  {
   "cell_type": "markdown",
   "id": "8e9785da",
   "metadata": {},
   "source": [
    "importamos las librerias necesarias\n",
    "30% test y 70% para train"
   ]
  },
  {
   "cell_type": "code",
   "execution_count": 14,
   "id": "6f49a4a4",
   "metadata": {},
   "outputs": [],
   "source": [
    "from sklearn.model_selection import train_test_split\n",
    "X_train, X_test, y_train, y_test = train_test_split(X,y, test_size=0.30, random_state=00000)"
   ]
  },
  {
   "cell_type": "code",
   "execution_count": 15,
   "id": "b0891e8e",
   "metadata": {},
   "outputs": [],
   "source": [
    "from sklearn.ensemble import RandomForestClassifier\n",
    "\n",
    "#creación del modelo\n",
    "\n",
    "random_forest = RandomForestClassifier(n_estimators=10, random_state=00000 )"
   ]
  },
  {
   "cell_type": "code",
   "execution_count": 16,
   "id": "9b947ebf",
   "metadata": {},
   "outputs": [
    {
     "data": {
      "text/plain": [
       "RandomForestClassifier(n_estimators=10, random_state=0)"
      ]
     },
     "execution_count": 16,
     "metadata": {},
     "output_type": "execute_result"
    }
   ],
   "source": [
    "random_forest.fit(X_train,y_train)"
   ]
  },
  {
   "cell_type": "markdown",
   "id": "a465ba16",
   "metadata": {},
   "source": [
    "Predicciones en train y en test"
   ]
  },
  {
   "cell_type": "code",
   "execution_count": 17,
   "id": "602348d8",
   "metadata": {},
   "outputs": [],
   "source": [
    "y_train_pred = random_forest.predict(X_train)\n",
    "y_test_pred = random_forest.predict(X_test)"
   ]
  },
  {
   "cell_type": "markdown",
   "id": "97424466",
   "metadata": {},
   "source": [
    "Evaluacion de las metricas del modelo"
   ]
  },
  {
   "cell_type": "code",
   "execution_count": 18,
   "id": "8a49fdf2",
   "metadata": {},
   "outputs": [
    {
     "name": "stdout",
     "output_type": "stream",
     "text": [
      "el accuracy en train es: 0.9999337649315174\n",
      "el accuracy en test es: 0.9995887438403257\n"
     ]
    }
   ],
   "source": [
    "from sklearn.metrics import accuracy_score\n",
    "\n",
    "train_accuracy = accuracy_score(y_train, y_train_pred)\n",
    "test_accuracy = accuracy_score(y_test, y_test_pred)\n",
    "print('el accuracy en train es:', train_accuracy)\n",
    "print('el accuracy en test es:', test_accuracy)"
   ]
  },
  {
   "cell_type": "markdown",
   "id": "6c84851e",
   "metadata": {},
   "source": [
    "En conjunto, estos resultados indican que:\n",
    "\n",
    "El modelo tiene un rendimiento excelente tanto en los datos de entrenamiento como en los de prueba. Esto es un buen indicio de que el modelo no está sobreajustado (overfitted) ni subajustado (underfitted).\n",
    "El alto accuracy en ambos conjuntos sugiere que el modelo tiene una capacidad de generalización muy buena y puede ser confiable para predecir resultados correctos en datos nuevos que no se han utilizado en el entrenamiento.\n",
    "En resumen, tener valores de accuracy tan altos en ambos conjuntos implica que el modelo está funcionando extremadamente bien."
   ]
  },
  {
   "cell_type": "markdown",
   "id": "22449382",
   "metadata": {},
   "source": [
    "Verificacion de Features"
   ]
  },
  {
   "cell_type": "code",
   "execution_count": 19,
   "id": "db85f3a4",
   "metadata": {},
   "outputs": [
    {
     "data": {
      "text/html": [
       "<div>\n",
       "<style scoped>\n",
       "    .dataframe tbody tr th:only-of-type {\n",
       "        vertical-align: middle;\n",
       "    }\n",
       "\n",
       "    .dataframe tbody tr th {\n",
       "        vertical-align: top;\n",
       "    }\n",
       "\n",
       "    .dataframe thead th {\n",
       "        text-align: right;\n",
       "    }\n",
       "</style>\n",
       "<table border=\"1\" class=\"dataframe\">\n",
       "  <thead>\n",
       "    <tr style=\"text-align: right;\">\n",
       "      <th></th>\n",
       "      <th>feature</th>\n",
       "      <th>importance</th>\n",
       "    </tr>\n",
       "  </thead>\n",
       "  <tbody>\n",
       "    <tr>\n",
       "      <th>2</th>\n",
       "      <td>oldbalanceOrg</td>\n",
       "      <td>0.389851</td>\n",
       "    </tr>\n",
       "    <tr>\n",
       "      <th>5</th>\n",
       "      <td>newbalanceDest</td>\n",
       "      <td>0.197920</td>\n",
       "    </tr>\n",
       "    <tr>\n",
       "      <th>1</th>\n",
       "      <td>amount</td>\n",
       "      <td>0.165725</td>\n",
       "    </tr>\n",
       "    <tr>\n",
       "      <th>0</th>\n",
       "      <td>step</td>\n",
       "      <td>0.126357</td>\n",
       "    </tr>\n",
       "    <tr>\n",
       "      <th>3</th>\n",
       "      <td>newbalanceOrig</td>\n",
       "      <td>0.068161</td>\n",
       "    </tr>\n",
       "    <tr>\n",
       "      <th>4</th>\n",
       "      <td>oldbalanceDest</td>\n",
       "      <td>0.051189</td>\n",
       "    </tr>\n",
       "    <tr>\n",
       "      <th>6</th>\n",
       "      <td>isFlaggedFraud</td>\n",
       "      <td>0.000797</td>\n",
       "    </tr>\n",
       "  </tbody>\n",
       "</table>\n",
       "</div>"
      ],
      "text/plain": [
       "          feature  importance\n",
       "2   oldbalanceOrg    0.389851\n",
       "5  newbalanceDest    0.197920\n",
       "1          amount    0.165725\n",
       "0            step    0.126357\n",
       "3  newbalanceOrig    0.068161\n",
       "4  oldbalanceDest    0.051189\n",
       "6  isFlaggedFraud    0.000797"
      ]
     },
     "execution_count": 19,
     "metadata": {},
     "output_type": "execute_result"
    }
   ],
   "source": [
    "feature_importances_df = pd.DataFrame(\n",
    "    {\"feature\": list(X.columns), \"importance\": random_forest.feature_importances_}).sort_values(\"importance\", ascending = False)\n",
    "#mostramos la importancia de cada columna\n",
    "feature_importances_df"
   ]
  },
  {
   "cell_type": "code",
   "execution_count": 20,
   "id": "c4d34a3d",
   "metadata": {},
   "outputs": [
    {
     "data": {
      "text/plain": [
       "(array([0, 1, 2, 3, 4, 5, 6]),\n",
       " [Text(0, 0, 'oldbalanceOrg'),\n",
       "  Text(1, 0, 'newbalanceDest'),\n",
       "  Text(2, 0, 'amount'),\n",
       "  Text(3, 0, 'step'),\n",
       "  Text(4, 0, 'newbalanceOrig'),\n",
       "  Text(5, 0, 'oldbalanceDest'),\n",
       "  Text(6, 0, 'isFlaggedFraud')])"
      ]
     },
     "execution_count": 20,
     "metadata": {},
     "output_type": "execute_result"
    },
    {
     "data": {
      "image/png": "[encoded data removed]",
      "text/plain": [
       "<Figure size 432x288 with 1 Axes>"
      ]
     },
     "metadata": {
      "needs_background": "light"
     },
     "output_type": "display_data"
    }
   ],
   "source": [
    "#Graficamos la importancia de cada columna para entender mejor estos datos\n",
    "import seaborn as sns\n",
    "import matplotlib.pyplot as plt\n",
    "\n",
    "sns.barplot(x=feature_importances_df.feature, y=feature_importances_df.importance)\n",
    "plt.xlabel(\"Feature Importance Score\")\n",
    "plt.ylabel(\"features\")\n",
    "plt.title(\"Visulizacion de la importancia de cada Feature\")\n",
    "plt.xticks(rotation=45, horizontalalignment=\"right\", fontweight=\"light\", fontsize=\"x-large\")\n"
   ]
  },
  {
   "cell_type": "markdown",
   "id": "64de6942",
   "metadata": {},
   "source": [
    "Como vemos, la importancia de las características te permite entender qué variables están influyendo más en las predicciones de tu modelo. En este caso, \"oldbalanceOrg\" y \"newbalanceDest\" son las características más influyentes, mientras que \"isFlaggedFraud\" tiene una influencia prácticamente insignificante en las predicciones del modelo. Esta información puede ser útil para interpretar el modelo y tomar decisiones sobre qué características podrían necesitar más atención o ser mejoradas en futuras iteraciones del modelo."
   ]
  },
  {
   "cell_type": "code",
   "execution_count": 25,
   "id": "c76dcd58",
   "metadata": {},
   "outputs": [
    {
     "data": {
      "image/png": "[encoded data removed]",
      "text/plain": [
       "<Figure size 432x288 with 1 Axes>"
      ]
     },
     "metadata": {
      "needs_background": "light"
     },
     "output_type": "display_data"
    },
    {
     "data": {
      "image/png": "[encoded data removed]",
      "text/plain": [
       "<Figure size 432x288 with 2 Axes>"
      ]
     },
     "metadata": {
      "needs_background": "light"
     },
     "output_type": "display_data"
    }
   ],
   "source": [
    "from sklearn.metrics import roc_curve, auc, confusion_matrix, ConfusionMatrixDisplay\n",
    "fpr, tpr, _ = roc_curve(y_test, y_test_pred)\n",
    "roc_auc = auc(fpr, tpr)\n",
    "plt.figure()\n",
    "plt.plot(fpr, tpr, color='darkorange', lw=2, label='Curva ROC (area = %0.2f)' % roc_auc)\n",
    "plt.plot([0, 1], [0, 1], color='navy', lw=2, linestyle='--')\n",
    "plt.xlim([0.0, 1.0])\n",
    "plt.ylim([0.0, 1.05])\n",
    "plt.xlabel('Tasa de Falsos Positivos')\n",
    "plt.ylabel('Tasa de Verdaderos Positivos')\n",
    "plt.title('Curva ROC')\n",
    "plt.legend(loc=\"lower right\")\n",
    "plt.show()\n",
    "\n",
    "# Calcular la matriz de confusión\n",
    "cm = confusion_matrix(y_test, y_test_pred)\n",
    "\n",
    "# Mostrar la matriz de confusión\n",
    "fig, ax = plt.subplots()\n",
    "cmap = plt.cm.Blues  # Puedes probar con diferentes cmap para colores suaves, como 'Blues', 'Greens', etc.\n",
    "disp = ConfusionMatrixDisplay(confusion_matrix=cm)\n",
    "disp.plot(cmap=cmap, ax=ax)\n",
    "plt.title('Matriz de Confusión')\n",
    "plt.show()\n"
   ]
  },
  {
   "cell_type": "markdown",
   "id": "5731c272",
   "metadata": {},
   "source": [
    "Interpretación de la matriz de confusión:\n",
    "Verdaderos Negativos (TN): 1,900,000\n",
    "\n",
    "Esto significa que el modelo ha predicho correctamente 1,900,000 instancias negativas como negativas.\n",
    "Falsos Positivos (FP): 69\n",
    "\n",
    "Esto significa que el modelo ha predicho incorrectamente 69 instancias negativas como positivas.\n",
    "Falsos Negativos (FN): 716\n",
    "\n",
    "Esto significa que el modelo ha predicho incorrectamente 716 instancias positivas como negativas.\n",
    "Verdaderos Positivos (TP): 1,703\n",
    "\n",
    "Esto significa que el modelo ha predicho correctamente 1,703 instancias positivas como positivas.\n",
    "\n",
    "\n",
    "\n",
    "\n",
    " Sensibilidad o Tasa de Verdaderos Positivos (TPR) ≈ 0.704\n",
    "La sensibilidad indica qué proporción de las verdaderas instancias positivas fueron identificadas correctamente por el modelo.\n",
    "\n",
    "Especificidad (Specificity) o Tasa de Verdaderos Negativos (TNR) ≈ 0.99996\n",
    "\n",
    "Puntuación F1 (F1 Score) ≈ 0.812\n",
    "es la media armónica de la precisión y la sensibilidad, y proporciona un equilibrio entre ambas.\n",
    "\n",
    "Conclusión:\n",
    "El modelo muestra un alto rendimiento general con una precisión cercana al 99.96%. Sin embargo, la sensibilidad de aproximadamente 70.4% sugiere que el modelo tiene un margen de mejora en la identificación de instancias positivas. La precisión positiva es alta (96.1%), lo que indica que la mayoría de las predicciones positivas son correctas. La especificidad es extremadamente alta (99.996%), lo que sugiere que el modelo es muy efectivo para identificar instancias negativas. La puntuación F1 es de 81.2%, reflejando un buen equilibrio entre precisión y sensibilidad."
   ]
  }
 ],
 "metadata": {
  "kernelspec": {
   "display_name": "Python 3 (ipykernel)",
   "language": "python",
   "name": "python3"
  },
  "language_info": {
   "codemirror_mode": {
    "name": "ipython",
    "version": 3
   },
   "file_extension": ".py",
   "mimetype": "text/x-python",
   "name": "python",
   "nbconvert_exporter": "python",
   "pygments_lexer": "ipython3",
   "version": "3.9.7"
  }
 },
 "nbformat": 4,
 "nbformat_minor": 5
}
