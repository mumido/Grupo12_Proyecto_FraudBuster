{
 "cells": [
  {
   "cell_type": "code",
   "execution_count": 11,
   "id": "dfa47fca",
   "metadata": {},
   "outputs": [],
   "source": [
    "#Importamos las librerias a utilizar\n",
    "import pandas as pd\n",
    "import matplotlib.pyplot as plt\n",
    "import seaborn as sns\n",
    "from sklearn.preprocessing import StandardScaler, LabelEncoder"
   ]
  },
  {
   "cell_type": "markdown",
   "id": "f187ff2c",
   "metadata": {},
   "source": [
    "# Importar librerías necesarias\n",
    "import pandas as pd\n",
    "import numpy as np\n",
    "from sklearn.model_selection import train_test_split\n",
    "from sklearn.preprocessing import OneHotEncoder, StandardScaler\n",
    "from sklearn.impute import KNNImputer\n",
    "from sklearn.tree import DecisionTreeClassifier\n",
    "from sklearn.metrics import classification_report, roc_auc_score, accuracy_score, confusion_matrix\n",
    "from imblearn.over_sampling import SMOTE\n",
    "from sklearn.model_selection import "
   ]
  },
  {
   "cell_type": "markdown",
   "id": "5d6a8d0f",
   "metadata": {},
   "source": [
    "Cargo dataset de Fraudes financieros"
   ]
  },
  {
   "cell_type": "code",
   "execution_count": 4,
   "id": "cb4676cf",
   "metadata": {},
   "outputs": [],
   "source": [
    "df_fraud = pd.read_csv (\"C:/Users/maria/ISPC/proyecto/UntitledFolder/fraud_detection_dataset.csv\", sep=\",\")"
   ]
  },
  {
   "cell_type": "markdown",
   "id": "66b44fb7",
   "metadata": {},
   "source": [
    "**Exploracion de datos**"
   ]
  },
  {
   "cell_type": "code",
   "execution_count": 5,
   "id": "96668b88",
   "metadata": {},
   "outputs": [
    {
     "data": {
      "text/html": [
       "<div>\n",
       "<style scoped>\n",
       "    .dataframe tbody tr th:only-of-type {\n",
       "        vertical-align: middle;\n",
       "    }\n",
       "\n",
       "    .dataframe tbody tr th {\n",
       "        vertical-align: top;\n",
       "    }\n",
       "\n",
       "    .dataframe thead th {\n",
       "        text-align: right;\n",
       "    }\n",
       "</style>\n",
       "<table border=\"1\" class=\"dataframe\">\n",
       "  <thead>\n",
       "    <tr style=\"text-align: right;\">\n",
       "      <th></th>\n",
       "      <th>step</th>\n",
       "      <th>type</th>\n",
       "      <th>amount</th>\n",
       "      <th>nameOrig</th>\n",
       "      <th>oldbalanceOrg</th>\n",
       "      <th>newbalanceOrig</th>\n",
       "      <th>nameDest</th>\n",
       "      <th>oldbalanceDest</th>\n",
       "      <th>newbalanceDest</th>\n",
       "      <th>isFraud</th>\n",
       "      <th>isFlaggedFraud</th>\n",
       "    </tr>\n",
       "  </thead>\n",
       "  <tbody>\n",
       "    <tr>\n",
       "      <th>5535519</th>\n",
       "      <td>381</td>\n",
       "      <td>CASH_IN</td>\n",
       "      <td>50772.48</td>\n",
       "      <td>C1576887744</td>\n",
       "      <td>3604149.05</td>\n",
       "      <td>3654921.53</td>\n",
       "      <td>C1982913854</td>\n",
       "      <td>737059.86</td>\n",
       "      <td>686287.38</td>\n",
       "      <td>0</td>\n",
       "      <td>0</td>\n",
       "    </tr>\n",
       "    <tr>\n",
       "      <th>850255</th>\n",
       "      <td>41</td>\n",
       "      <td>PAYMENT</td>\n",
       "      <td>5484.40</td>\n",
       "      <td>C287382945</td>\n",
       "      <td>121426.00</td>\n",
       "      <td>115941.60</td>\n",
       "      <td>M1934155044</td>\n",
       "      <td>0.00</td>\n",
       "      <td>0.00</td>\n",
       "      <td>0</td>\n",
       "      <td>0</td>\n",
       "    </tr>\n",
       "    <tr>\n",
       "      <th>5327066</th>\n",
       "      <td>374</td>\n",
       "      <td>CASH_IN</td>\n",
       "      <td>393527.31</td>\n",
       "      <td>C1194937812</td>\n",
       "      <td>22581.00</td>\n",
       "      <td>416108.31</td>\n",
       "      <td>C1256604926</td>\n",
       "      <td>0.00</td>\n",
       "      <td>0.00</td>\n",
       "      <td>0</td>\n",
       "      <td>0</td>\n",
       "    </tr>\n",
       "    <tr>\n",
       "      <th>3037040</th>\n",
       "      <td>234</td>\n",
       "      <td>TRANSFER</td>\n",
       "      <td>606783.30</td>\n",
       "      <td>C2074698854</td>\n",
       "      <td>0.00</td>\n",
       "      <td>0.00</td>\n",
       "      <td>C613102725</td>\n",
       "      <td>700744.06</td>\n",
       "      <td>1307527.36</td>\n",
       "      <td>0</td>\n",
       "      <td>0</td>\n",
       "    </tr>\n",
       "    <tr>\n",
       "      <th>6202892</th>\n",
       "      <td>584</td>\n",
       "      <td>CASH_OUT</td>\n",
       "      <td>223536.23</td>\n",
       "      <td>C301876493</td>\n",
       "      <td>0.00</td>\n",
       "      <td>0.00</td>\n",
       "      <td>C886888353</td>\n",
       "      <td>2851921.01</td>\n",
       "      <td>3075457.24</td>\n",
       "      <td>0</td>\n",
       "      <td>0</td>\n",
       "    </tr>\n",
       "    <tr>\n",
       "      <th>1536291</th>\n",
       "      <td>154</td>\n",
       "      <td>PAYMENT</td>\n",
       "      <td>13817.90</td>\n",
       "      <td>C1043169681</td>\n",
       "      <td>213210.00</td>\n",
       "      <td>199392.10</td>\n",
       "      <td>M1287101714</td>\n",
       "      <td>0.00</td>\n",
       "      <td>0.00</td>\n",
       "      <td>0</td>\n",
       "      <td>0</td>\n",
       "    </tr>\n",
       "    <tr>\n",
       "      <th>1119340</th>\n",
       "      <td>130</td>\n",
       "      <td>CASH_IN</td>\n",
       "      <td>480095.03</td>\n",
       "      <td>C771090886</td>\n",
       "      <td>50514.00</td>\n",
       "      <td>530609.03</td>\n",
       "      <td>C970829361</td>\n",
       "      <td>389943.05</td>\n",
       "      <td>0.00</td>\n",
       "      <td>0</td>\n",
       "      <td>0</td>\n",
       "    </tr>\n",
       "    <tr>\n",
       "      <th>349975</th>\n",
       "      <td>17</td>\n",
       "      <td>CASH_OUT</td>\n",
       "      <td>189705.65</td>\n",
       "      <td>C591359721</td>\n",
       "      <td>0.00</td>\n",
       "      <td>0.00</td>\n",
       "      <td>C517653428</td>\n",
       "      <td>472095.57</td>\n",
       "      <td>661801.23</td>\n",
       "      <td>0</td>\n",
       "      <td>0</td>\n",
       "    </tr>\n",
       "    <tr>\n",
       "      <th>2701219</th>\n",
       "      <td>211</td>\n",
       "      <td>TRANSFER</td>\n",
       "      <td>185723.23</td>\n",
       "      <td>C499549161</td>\n",
       "      <td>0.00</td>\n",
       "      <td>0.00</td>\n",
       "      <td>C1397433871</td>\n",
       "      <td>251770.95</td>\n",
       "      <td>437494.19</td>\n",
       "      <td>0</td>\n",
       "      <td>0</td>\n",
       "    </tr>\n",
       "    <tr>\n",
       "      <th>3742550</th>\n",
       "      <td>279</td>\n",
       "      <td>PAYMENT</td>\n",
       "      <td>705.14</td>\n",
       "      <td>C1396441541</td>\n",
       "      <td>76.00</td>\n",
       "      <td>0.00</td>\n",
       "      <td>M1272583506</td>\n",
       "      <td>0.00</td>\n",
       "      <td>0.00</td>\n",
       "      <td>0</td>\n",
       "      <td>0</td>\n",
       "    </tr>\n",
       "  </tbody>\n",
       "</table>\n",
       "</div>"
      ],
      "text/plain": [
       "         step      type     amount     nameOrig  oldbalanceOrg  \\\n",
       "5535519   381   CASH_IN   50772.48  C1576887744     3604149.05   \n",
       "850255     41   PAYMENT    5484.40   C287382945      121426.00   \n",
       "5327066   374   CASH_IN  393527.31  C1194937812       22581.00   \n",
       "3037040   234  TRANSFER  606783.30  C2074698854           0.00   \n",
       "6202892   584  CASH_OUT  223536.23   C301876493           0.00   \n",
       "1536291   154   PAYMENT   13817.90  C1043169681      213210.00   \n",
       "1119340   130   CASH_IN  480095.03   C771090886       50514.00   \n",
       "349975     17  CASH_OUT  189705.65   C591359721           0.00   \n",
       "2701219   211  TRANSFER  185723.23   C499549161           0.00   \n",
       "3742550   279   PAYMENT     705.14  C1396441541          76.00   \n",
       "\n",
       "         newbalanceOrig     nameDest  oldbalanceDest  newbalanceDest  isFraud  \\\n",
       "5535519      3654921.53  C1982913854       737059.86       686287.38        0   \n",
       "850255        115941.60  M1934155044            0.00            0.00        0   \n",
       "5327066       416108.31  C1256604926            0.00            0.00        0   \n",
       "3037040            0.00   C613102725       700744.06      1307527.36        0   \n",
       "6202892            0.00   C886888353      2851921.01      3075457.24        0   \n",
       "1536291       199392.10  M1287101714            0.00            0.00        0   \n",
       "1119340       530609.03   C970829361       389943.05            0.00        0   \n",
       "349975             0.00   C517653428       472095.57       661801.23        0   \n",
       "2701219            0.00  C1397433871       251770.95       437494.19        0   \n",
       "3742550            0.00  M1272583506            0.00            0.00        0   \n",
       "\n",
       "         isFlaggedFraud  \n",
       "5535519               0  \n",
       "850255                0  \n",
       "5327066               0  \n",
       "3037040               0  \n",
       "6202892               0  \n",
       "1536291               0  \n",
       "1119340               0  \n",
       "349975                0  \n",
       "2701219               0  \n",
       "3742550               0  "
      ]
     },
     "execution_count": 5,
     "metadata": {},
     "output_type": "execute_result"
    }
   ],
   "source": [
    "df_fraud.sample(10)"
   ]
  },
  {
   "cell_type": "code",
   "execution_count": 6,
   "id": "980dacf7",
   "metadata": {
    "scrolled": true
   },
   "outputs": [
    {
     "data": {
      "text/html": [
       "<div>\n",
       "<style scoped>\n",
       "    .dataframe tbody tr th:only-of-type {\n",
       "        vertical-align: middle;\n",
       "    }\n",
       "\n",
       "    .dataframe tbody tr th {\n",
       "        vertical-align: top;\n",
       "    }\n",
       "\n",
       "    .dataframe thead th {\n",
       "        text-align: right;\n",
       "    }\n",
       "</style>\n",
       "<table border=\"1\" class=\"dataframe\">\n",
       "  <thead>\n",
       "    <tr style=\"text-align: right;\">\n",
       "      <th></th>\n",
       "      <th>step</th>\n",
       "      <th>type</th>\n",
       "      <th>amount</th>\n",
       "      <th>nameOrig</th>\n",
       "      <th>oldbalanceOrg</th>\n",
       "      <th>newbalanceOrig</th>\n",
       "      <th>nameDest</th>\n",
       "      <th>oldbalanceDest</th>\n",
       "      <th>newbalanceDest</th>\n",
       "      <th>isFraud</th>\n",
       "      <th>isFlaggedFraud</th>\n",
       "    </tr>\n",
       "  </thead>\n",
       "  <tbody>\n",
       "    <tr>\n",
       "      <th>0</th>\n",
       "      <td>1</td>\n",
       "      <td>PAYMENT</td>\n",
       "      <td>9839.64</td>\n",
       "      <td>C1231006815</td>\n",
       "      <td>170136.0</td>\n",
       "      <td>160296.36</td>\n",
       "      <td>M1979787155</td>\n",
       "      <td>0.0</td>\n",
       "      <td>0.0</td>\n",
       "      <td>0</td>\n",
       "      <td>0</td>\n",
       "    </tr>\n",
       "    <tr>\n",
       "      <th>1</th>\n",
       "      <td>1</td>\n",
       "      <td>PAYMENT</td>\n",
       "      <td>1864.28</td>\n",
       "      <td>C1666544295</td>\n",
       "      <td>21249.0</td>\n",
       "      <td>19384.72</td>\n",
       "      <td>M2044282225</td>\n",
       "      <td>0.0</td>\n",
       "      <td>0.0</td>\n",
       "      <td>0</td>\n",
       "      <td>0</td>\n",
       "    </tr>\n",
       "    <tr>\n",
       "      <th>2</th>\n",
       "      <td>1</td>\n",
       "      <td>TRANSFER</td>\n",
       "      <td>181.00</td>\n",
       "      <td>C1305486145</td>\n",
       "      <td>181.0</td>\n",
       "      <td>0.00</td>\n",
       "      <td>C553264065</td>\n",
       "      <td>0.0</td>\n",
       "      <td>0.0</td>\n",
       "      <td>1</td>\n",
       "      <td>0</td>\n",
       "    </tr>\n",
       "    <tr>\n",
       "      <th>3</th>\n",
       "      <td>1</td>\n",
       "      <td>CASH_OUT</td>\n",
       "      <td>181.00</td>\n",
       "      <td>C840083671</td>\n",
       "      <td>181.0</td>\n",
       "      <td>0.00</td>\n",
       "      <td>C38997010</td>\n",
       "      <td>21182.0</td>\n",
       "      <td>0.0</td>\n",
       "      <td>1</td>\n",
       "      <td>0</td>\n",
       "    </tr>\n",
       "    <tr>\n",
       "      <th>4</th>\n",
       "      <td>1</td>\n",
       "      <td>PAYMENT</td>\n",
       "      <td>11668.14</td>\n",
       "      <td>C2048537720</td>\n",
       "      <td>41554.0</td>\n",
       "      <td>29885.86</td>\n",
       "      <td>M1230701703</td>\n",
       "      <td>0.0</td>\n",
       "      <td>0.0</td>\n",
       "      <td>0</td>\n",
       "      <td>0</td>\n",
       "    </tr>\n",
       "  </tbody>\n",
       "</table>\n",
       "</div>"
      ],
      "text/plain": [
       "   step      type    amount     nameOrig  oldbalanceOrg  newbalanceOrig  \\\n",
       "0     1   PAYMENT   9839.64  C1231006815       170136.0       160296.36   \n",
       "1     1   PAYMENT   1864.28  C1666544295        21249.0        19384.72   \n",
       "2     1  TRANSFER    181.00  C1305486145          181.0            0.00   \n",
       "3     1  CASH_OUT    181.00   C840083671          181.0            0.00   \n",
       "4     1   PAYMENT  11668.14  C2048537720        41554.0        29885.86   \n",
       "\n",
       "      nameDest  oldbalanceDest  newbalanceDest  isFraud  isFlaggedFraud  \n",
       "0  M1979787155             0.0             0.0        0               0  \n",
       "1  M2044282225             0.0             0.0        0               0  \n",
       "2   C553264065             0.0             0.0        1               0  \n",
       "3    C38997010         21182.0             0.0        1               0  \n",
       "4  M1230701703             0.0             0.0        0               0  "
      ]
     },
     "execution_count": 6,
     "metadata": {},
     "output_type": "execute_result"
    }
   ],
   "source": [
    "df_fraud.head()"
   ]
  },
  {
   "cell_type": "markdown",
   "id": "d74ed7fd",
   "metadata": {},
   "source": [
    "analisamos la cantidad de filas y columnas de nuestro dataset"
   ]
  },
  {
   "cell_type": "code",
   "execution_count": 7,
   "id": "07d1eafc",
   "metadata": {},
   "outputs": [
    {
     "name": "stdout",
     "output_type": "stream",
     "text": [
      "(6362620, 11)\n"
     ]
    }
   ],
   "source": [
    "print(df_fraud.shape)"
   ]
  },
  {
   "cell_type": "markdown",
   "id": "c82d3142",
   "metadata": {},
   "source": [
    "visualizamos los tipos de datos en cada columna"
   ]
  },
  {
   "cell_type": "code",
   "execution_count": 8,
   "id": "236aa98e",
   "metadata": {
    "scrolled": true
   },
   "outputs": [
    {
     "data": {
      "text/plain": [
       "step                int64\n",
       "type               object\n",
       "amount            float64\n",
       "nameOrig           object\n",
       "oldbalanceOrg     float64\n",
       "newbalanceOrig    float64\n",
       "nameDest           object\n",
       "oldbalanceDest    float64\n",
       "newbalanceDest    float64\n",
       "isFraud             int64\n",
       "isFlaggedFraud      int64\n",
       "dtype: object"
      ]
     },
     "execution_count": 8,
     "metadata": {},
     "output_type": "execute_result"
    }
   ],
   "source": [
    "df_fraud.dtypes"
   ]
  },
  {
   "cell_type": "markdown",
   "id": "bd91877a",
   "metadata": {},
   "source": [
    "transformo las variables categoricas"
   ]
  },
  {
   "cell_type": "code",
   "execution_count": 13,
   "id": "5e626c8a",
   "metadata": {},
   "outputs": [],
   "source": [
    "label_encoders = {}\n",
    "for column in df_fraud.select_dtypes(include=['object']).columns:\n",
    "    le = LabelEncoder()\n",
    "    df_fraud[column] = le.fit_transform(df_fraud[column])\n",
    "    label_encoders[column] = le"
   ]
  },
  {
   "cell_type": "markdown",
   "id": "e0e04864",
   "metadata": {},
   "source": [
    "vemos como se compone en nuevo dataset"
   ]
  },
  {
   "cell_type": "code",
   "execution_count": 15,
   "id": "79e1512e",
   "metadata": {},
   "outputs": [
    {
     "data": {
      "text/html": [
       "<div>\n",
       "<style scoped>\n",
       "    .dataframe tbody tr th:only-of-type {\n",
       "        vertical-align: middle;\n",
       "    }\n",
       "\n",
       "    .dataframe tbody tr th {\n",
       "        vertical-align: top;\n",
       "    }\n",
       "\n",
       "    .dataframe thead th {\n",
       "        text-align: right;\n",
       "    }\n",
       "</style>\n",
       "<table border=\"1\" class=\"dataframe\">\n",
       "  <thead>\n",
       "    <tr style=\"text-align: right;\">\n",
       "      <th></th>\n",
       "      <th>step</th>\n",
       "      <th>type</th>\n",
       "      <th>amount</th>\n",
       "      <th>nameOrig</th>\n",
       "      <th>oldbalanceOrg</th>\n",
       "      <th>newbalanceOrig</th>\n",
       "      <th>nameDest</th>\n",
       "      <th>oldbalanceDest</th>\n",
       "      <th>newbalanceDest</th>\n",
       "      <th>isFraud</th>\n",
       "      <th>isFlaggedFraud</th>\n",
       "    </tr>\n",
       "  </thead>\n",
       "  <tbody>\n",
       "    <tr>\n",
       "      <th>0</th>\n",
       "      <td>1</td>\n",
       "      <td>3</td>\n",
       "      <td>9839.64</td>\n",
       "      <td>757869</td>\n",
       "      <td>170136.0</td>\n",
       "      <td>160296.36</td>\n",
       "      <td>1662094</td>\n",
       "      <td>0.0</td>\n",
       "      <td>0.0</td>\n",
       "      <td>0</td>\n",
       "      <td>0</td>\n",
       "    </tr>\n",
       "    <tr>\n",
       "      <th>1</th>\n",
       "      <td>1</td>\n",
       "      <td>3</td>\n",
       "      <td>1864.28</td>\n",
       "      <td>2188998</td>\n",
       "      <td>21249.0</td>\n",
       "      <td>19384.72</td>\n",
       "      <td>1733924</td>\n",
       "      <td>0.0</td>\n",
       "      <td>0.0</td>\n",
       "      <td>0</td>\n",
       "      <td>0</td>\n",
       "    </tr>\n",
       "    <tr>\n",
       "      <th>2</th>\n",
       "      <td>1</td>\n",
       "      <td>4</td>\n",
       "      <td>181.00</td>\n",
       "      <td>1002156</td>\n",
       "      <td>181.0</td>\n",
       "      <td>0.00</td>\n",
       "      <td>439685</td>\n",
       "      <td>0.0</td>\n",
       "      <td>0.0</td>\n",
       "      <td>1</td>\n",
       "      <td>0</td>\n",
       "    </tr>\n",
       "    <tr>\n",
       "      <th>3</th>\n",
       "      <td>1</td>\n",
       "      <td>1</td>\n",
       "      <td>181.00</td>\n",
       "      <td>5828262</td>\n",
       "      <td>181.0</td>\n",
       "      <td>0.00</td>\n",
       "      <td>391696</td>\n",
       "      <td>21182.0</td>\n",
       "      <td>0.0</td>\n",
       "      <td>1</td>\n",
       "      <td>0</td>\n",
       "    </tr>\n",
       "    <tr>\n",
       "      <th>4</th>\n",
       "      <td>1</td>\n",
       "      <td>3</td>\n",
       "      <td>11668.14</td>\n",
       "      <td>3445981</td>\n",
       "      <td>41554.0</td>\n",
       "      <td>29885.86</td>\n",
       "      <td>828919</td>\n",
       "      <td>0.0</td>\n",
       "      <td>0.0</td>\n",
       "      <td>0</td>\n",
       "      <td>0</td>\n",
       "    </tr>\n",
       "  </tbody>\n",
       "</table>\n",
       "</div>"
      ],
      "text/plain": [
       "   step  type    amount  nameOrig  oldbalanceOrg  newbalanceOrig  nameDest  \\\n",
       "0     1     3   9839.64    757869       170136.0       160296.36   1662094   \n",
       "1     1     3   1864.28   2188998        21249.0        19384.72   1733924   \n",
       "2     1     4    181.00   1002156          181.0            0.00    439685   \n",
       "3     1     1    181.00   5828262          181.0            0.00    391696   \n",
       "4     1     3  11668.14   3445981        41554.0        29885.86    828919   \n",
       "\n",
       "   oldbalanceDest  newbalanceDest  isFraud  isFlaggedFraud  \n",
       "0             0.0             0.0        0               0  \n",
       "1             0.0             0.0        0               0  \n",
       "2             0.0             0.0        1               0  \n",
       "3         21182.0             0.0        1               0  \n",
       "4             0.0             0.0        0               0  "
      ]
     },
     "execution_count": 15,
     "metadata": {},
     "output_type": "execute_result"
    }
   ],
   "source": [
    "df_fraud.head()"
   ]
  },
  {
   "cell_type": "markdown",
   "id": "0ba5f06a",
   "metadata": {},
   "source": [
    "entrenamiento del modelo con Random Forest"
   ]
  },
  {
   "cell_type": "code",
   "execution_count": 16,
   "id": "35d0985d",
   "metadata": {},
   "outputs": [],
   "source": [
    "X = df_fraud.drop(\"isFraud\", axis = 1)\n",
    "y = df_fraud[\"isFraud\"]"
   ]
  },
  {
   "cell_type": "markdown",
   "id": "8e9785da",
   "metadata": {},
   "source": [
    "importamos las librerias necesarias\n",
    "30% test y 70% para train"
   ]
  },
  {
   "cell_type": "code",
   "execution_count": 17,
   "id": "6f49a4a4",
   "metadata": {},
   "outputs": [],
   "source": [
    "from sklearn.model_selection import train_test_split\n",
    "X_train, X_test, y_train, y_test = train_test_split(X,y, test_size=0.30, random_state=00000)"
   ]
  },
  {
   "cell_type": "code",
   "execution_count": 18,
   "id": "b0891e8e",
   "metadata": {},
   "outputs": [],
   "source": [
    "from sklearn.ensemble import RandomForestClassifier\n",
    "\n",
    "#creación del modelo\n",
    "\n",
    "random_forest = RandomForestClassifier(n_estimators=10, random_state=00000 )"
   ]
  },
  {
   "cell_type": "code",
   "execution_count": 19,
   "id": "9b947ebf",
   "metadata": {},
   "outputs": [
    {
     "data": {
      "text/plain": [
       "RandomForestClassifier(n_estimators=10, random_state=0)"
      ]
     },
     "execution_count": 19,
     "metadata": {},
     "output_type": "execute_result"
    }
   ],
   "source": [
    "random_forest.fit(X_train,y_train)"
   ]
  },
  {
   "cell_type": "markdown",
   "id": "a465ba16",
   "metadata": {},
   "source": [
    "Predicciones en train y en test"
   ]
  },
  {
   "cell_type": "code",
   "execution_count": 20,
   "id": "602348d8",
   "metadata": {},
   "outputs": [],
   "source": [
    "y_train_pred = random_forest.predict(X_train)\n",
    "y_test_pred = random_forest.predict(X_test)"
   ]
  },
  {
   "cell_type": "markdown",
   "id": "97424466",
   "metadata": {},
   "source": [
    "Evaluacion de las metricas del modelo"
   ]
  },
  {
   "cell_type": "code",
   "execution_count": 21,
   "id": "8a49fdf2",
   "metadata": {},
   "outputs": [
    {
     "name": "stdout",
     "output_type": "stream",
     "text": [
      "el accuracy en train es: 0.9999463383682463\n",
      "el accuracy en test es: 0.9996977136253095\n"
     ]
    }
   ],
   "source": [
    "from sklearn.metrics import accuracy_score\n",
    "\n",
    "train_accuracy = accuracy_score(y_train, y_train_pred)\n",
    "test_accuracy = accuracy_score(y_test, y_test_pred)\n",
    "print('el accuracy en train es:', train_accuracy)\n",
    "print('el accuracy en test es:', test_accuracy)"
   ]
  },
  {
   "cell_type": "markdown",
   "id": "6c84851e",
   "metadata": {},
   "source": [
    "En conjunto, estos resultados indican que:\n",
    "\n",
    "El modelo tiene un rendimiento excelente tanto en los datos de entrenamiento como en los de prueba. Esto es un buen indicio de que el modelo no está sobreajustado (overfitted) ni subajustado (underfitted).\n",
    "El alto accuracy en ambos conjuntos sugiere que el modelo tiene una capacidad de generalización muy buena y puede ser confiable para predecir resultados correctos en datos nuevos que no se han utilizado en el entrenamiento.\n",
    "En resumen, tener valores de accuracy tan altos en ambos conjuntos implica que el modelo está funcionando extremadamente bien."
   ]
  },
  {
   "cell_type": "markdown",
   "id": "22449382",
   "metadata": {},
   "source": [
    "Verificacion de Features"
   ]
  },
  {
   "cell_type": "code",
   "execution_count": 22,
   "id": "db85f3a4",
   "metadata": {},
   "outputs": [
    {
     "data": {
      "text/html": [
       "<div>\n",
       "<style scoped>\n",
       "    .dataframe tbody tr th:only-of-type {\n",
       "        vertical-align: middle;\n",
       "    }\n",
       "\n",
       "    .dataframe tbody tr th {\n",
       "        vertical-align: top;\n",
       "    }\n",
       "\n",
       "    .dataframe thead th {\n",
       "        text-align: right;\n",
       "    }\n",
       "</style>\n",
       "<table border=\"1\" class=\"dataframe\">\n",
       "  <thead>\n",
       "    <tr style=\"text-align: right;\">\n",
       "      <th></th>\n",
       "      <th>feature</th>\n",
       "      <th>importance</th>\n",
       "    </tr>\n",
       "  </thead>\n",
       "  <tbody>\n",
       "    <tr>\n",
       "      <th>8</th>\n",
       "      <td>newbalanceDest</td>\n",
       "      <td>0.332279</td>\n",
       "    </tr>\n",
       "    <tr>\n",
       "      <th>4</th>\n",
       "      <td>oldbalanceOrg</td>\n",
       "      <td>0.242535</td>\n",
       "    </tr>\n",
       "    <tr>\n",
       "      <th>2</th>\n",
       "      <td>amount</td>\n",
       "      <td>0.146567</td>\n",
       "    </tr>\n",
       "    <tr>\n",
       "      <th>0</th>\n",
       "      <td>step</td>\n",
       "      <td>0.085124</td>\n",
       "    </tr>\n",
       "    <tr>\n",
       "      <th>7</th>\n",
       "      <td>oldbalanceDest</td>\n",
       "      <td>0.053975</td>\n",
       "    </tr>\n",
       "    <tr>\n",
       "      <th>1</th>\n",
       "      <td>type</td>\n",
       "      <td>0.048634</td>\n",
       "    </tr>\n",
       "    <tr>\n",
       "      <th>5</th>\n",
       "      <td>newbalanceOrig</td>\n",
       "      <td>0.038570</td>\n",
       "    </tr>\n",
       "    <tr>\n",
       "      <th>6</th>\n",
       "      <td>nameDest</td>\n",
       "      <td>0.026849</td>\n",
       "    </tr>\n",
       "    <tr>\n",
       "      <th>3</th>\n",
       "      <td>nameOrig</td>\n",
       "      <td>0.025022</td>\n",
       "    </tr>\n",
       "    <tr>\n",
       "      <th>9</th>\n",
       "      <td>isFlaggedFraud</td>\n",
       "      <td>0.000446</td>\n",
       "    </tr>\n",
       "  </tbody>\n",
       "</table>\n",
       "</div>"
      ],
      "text/plain": [
       "          feature  importance\n",
       "8  newbalanceDest    0.332279\n",
       "4   oldbalanceOrg    0.242535\n",
       "2          amount    0.146567\n",
       "0            step    0.085124\n",
       "7  oldbalanceDest    0.053975\n",
       "1            type    0.048634\n",
       "5  newbalanceOrig    0.038570\n",
       "6        nameDest    0.026849\n",
       "3        nameOrig    0.025022\n",
       "9  isFlaggedFraud    0.000446"
      ]
     },
     "execution_count": 22,
     "metadata": {},
     "output_type": "execute_result"
    }
   ],
   "source": [
    "feature_importances_df = pd.DataFrame(\n",
    "    {\"feature\": list(X.columns), \"importance\": random_forest.feature_importances_}).sort_values(\"importance\", ascending = False)\n",
    "#mostramos la importancia de cada columna\n",
    "feature_importances_df"
   ]
  },
  {
   "cell_type": "code",
   "execution_count": 23,
   "id": "c4d34a3d",
   "metadata": {},
   "outputs": [
    {
     "data": {
      "text/plain": [
       "(array([0, 1, 2, 3, 4, 5, 6, 7, 8, 9]),\n",
       " [Text(0, 0, 'newbalanceDest'),\n",
       "  Text(1, 0, 'oldbalanceOrg'),\n",
       "  Text(2, 0, 'amount'),\n",
       "  Text(3, 0, 'step'),\n",
       "  Text(4, 0, 'oldbalanceDest'),\n",
       "  Text(5, 0, 'type'),\n",
       "  Text(6, 0, 'newbalanceOrig'),\n",
       "  Text(7, 0, 'nameDest'),\n",
       "  Text(8, 0, 'nameOrig'),\n",
       "  Text(9, 0, 'isFlaggedFraud')])"
      ]
     },
     "execution_count": 23,
     "metadata": {},
     "output_type": "execute_result"
    },
    {
     "data": {
      "image/png": "[encoded data removed]",
      "text/plain": [
       "<Figure size 432x288 with 1 Axes>"
      ]
     },
     "metadata": {
      "needs_background": "light"
     },
     "output_type": "display_data"
    }
   ],
   "source": [
    "#Graficamos la importancia de cada columna para entender mejor estos datos\n",
    "import seaborn as sns\n",
    "import matplotlib.pyplot as plt\n",
    "\n",
    "sns.barplot(x=feature_importances_df.feature, y=feature_importances_df.importance)\n",
    "plt.xlabel(\"Feature Importance Score\")\n",
    "plt.ylabel(\"features\")\n",
    "plt.title(\"Visulizacion de la importancia de cada Feature\")\n",
    "plt.xticks(rotation=45, horizontalalignment=\"right\", fontweight=\"light\", fontsize=\"x-large\")\n"
   ]
  },
  {
   "cell_type": "markdown",
   "id": "64de6942",
   "metadata": {},
   "source": [
    "Como vemos, la importancia de las características te permite entender qué variables están influyendo más en las predicciones de tu modelo. En este caso, \"oldbalanceOrg\" y \"newbalanceDest\" son las características más influyentes, mientras que \"isFlaggedFraud\" tiene una influencia prácticamente insignificante en las predicciones del modelo. Esta información puede ser útil para interpretar el modelo y tomar decisiones sobre qué características podrían necesitar más atención o ser mejoradas en futuras iteraciones del modelo."
   ]
  },
  {
   "cell_type": "code",
   "execution_count": 24,
   "id": "c76dcd58",
   "metadata": {},
   "outputs": [
    {
     "data": {
      "image/png": "[encoded data removed]",
      "text/plain": [
       "<Figure size 432x288 with 1 Axes>"
      ]
     },
     "metadata": {
      "needs_background": "light"
     },
     "output_type": "display_data"
    },
    {
     "data": {
      "image/png": "[encoded data removed]",
      "text/plain": [
       "<Figure size 432x288 with 2 Axes>"
      ]
     },
     "metadata": {
      "needs_background": "light"
     },
     "output_type": "display_data"
    }
   ],
   "source": [
    "from sklearn.metrics import roc_curve, auc, confusion_matrix, ConfusionMatrixDisplay\n",
    "fpr, tpr, _ = roc_curve(y_test, y_test_pred)\n",
    "roc_auc = auc(fpr, tpr)\n",
    "plt.figure()\n",
    "plt.plot(fpr, tpr, color='darkorange', lw=2, label='Curva ROC (area = %0.2f)' % roc_auc)\n",
    "plt.plot([0, 1], [0, 1], color='navy', lw=2, linestyle='--')\n",
    "plt.xlim([0.0, 1.0])\n",
    "plt.ylim([0.0, 1.05])\n",
    "plt.xlabel('Tasa de Falsos Positivos')\n",
    "plt.ylabel('Tasa de Verdaderos Positivos')\n",
    "plt.title('Curva ROC')\n",
    "plt.legend(loc=\"lower right\")\n",
    "plt.show()\n",
    "\n",
    "# Calcular la matriz de confusión\n",
    "cm = confusion_matrix(y_test, y_test_pred)\n",
    "\n",
    "# Mostrar la matriz de confusión\n",
    "fig, ax = plt.subplots()\n",
    "cmap = plt.cm.Blues  # Puedes probar con diferentes cmap para colores suaves, como 'Blues', 'Greens', etc.\n",
    "disp = ConfusionMatrixDisplay(confusion_matrix=cm)\n",
    "disp.plot(cmap=cmap, ax=ax)\n",
    "plt.title('Matriz de Confusión')\n",
    "plt.show()\n"
   ]
  },
  {
   "cell_type": "markdown",
   "id": "5731c272",
   "metadata": {},
   "source": [
    "Interpretación de la matriz de confusión:\n",
    "Verdaderos Negativos (TN): 1,900,000\n",
    "Esto significa que el modelo ha predicho correctamente 1,900,000 instancias negativas como negativas.\n",
    "\n",
    "Falsos Positivos (FP): 40\n",
    "Esto significa que el modelo ha predicho incorrectamente 40 instancias negativas como positivas.\n",
    "\n",
    "Falsos Negativos (FN): 537\n",
    "Esto significa que el modelo ha predicho incorrectamente 537 instancias positivas como negativas.\n",
    "\n",
    "Verdaderos Positivos (TP): 1,882\n",
    "Esto significa que el modelo ha predicho correctamente 1,882 instancias positivas como positivas.\n",
    "\n",
    "\n",
    "\n",
    "\n",
    " Sensibilidad o Tasa de Verdaderos Positivos (TPR) ≈ 0.778\n",
    "La sensibilidad indica qué proporción de las verdaderas instancias positivas fueron identificadas correctamente por el modelo.\n",
    "\n",
    "Especificidad (Specificity) o Tasa de Verdaderos Negativos (TNR) ≈ 0.999992\n",
    "\n",
    "Puntuación F1 (F1 Score) ≈ 0.889\n",
    "es la media armónica de la precisión y la sensibilidad, y proporciona un equilibrio entre ambas.\n",
    "\n",
    "Conclusión:\n",
    "El modelo muestra un alto rendimiento general con una precisión cercana al 99.99%. Sin embargo, la sensibilidad de aproximadamente 77.8% sugiere que el modelo tiene un margen de mejora en la identificación de instancias positivas. La precisión positiva es alta (98%), lo que indica que la mayoría de las predicciones positivas son correctas. La especificidad es extremadamente alta (99.996%), lo que sugiere que el modelo es muy efectivo para identificar instancias negativas. La puntuación F1 es de 88.9%, reflejando un buen equilibrio entre precisión y sensibilidad."
   ]
  },
  {
   "cell_type": "code",
   "execution_count": 25,
   "id": "79b83040",
   "metadata": {},
   "outputs": [
    {
     "name": "stdout",
     "output_type": "stream",
     "text": [
      "              precision    recall  f1-score   support\n",
      "\n",
      "           0       1.00      1.00      1.00   1906367\n",
      "           1       0.98      0.78      0.87      2419\n",
      "\n",
      "    accuracy                           1.00   1908786\n",
      "   macro avg       0.99      0.89      0.93   1908786\n",
      "weighted avg       1.00      1.00      1.00   1908786\n",
      "\n"
     ]
    }
   ],
   "source": [
    "from sklearn.metrics import classification_report\n",
    "print(classification_report(y_test,y_test_pred))"
   ]
  }
 ],
 "metadata": {
  "kernelspec": {
   "display_name": "Python 3 (ipykernel)",
   "language": "python",
   "name": "python3"
  },
  "language_info": {
   "codemirror_mode": {
    "name": "ipython",
    "version": 3
   },
   "file_extension": ".py",
   "mimetype": "text/x-python",
   "name": "python",
   "nbconvert_exporter": "python",
   "pygments_lexer": "ipython3",
   "version": "3.9.7"
  }
 },
 "nbformat": 4,
 "nbformat_minor": 5
}
