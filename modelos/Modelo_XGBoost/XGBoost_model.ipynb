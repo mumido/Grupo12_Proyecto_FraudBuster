{
 "cells": [
  {
   "cell_type": "markdown",
   "metadata": {},
   "source": [
    "# Modelo XGBboost"
   ]
  },
  {
   "cell_type": "markdown",
   "metadata": {},
   "source": [
    "## Cargar y Preprocesar el Dataset"
   ]
  },
  {
   "cell_type": "code",
   "execution_count": 3,
   "metadata": {},
   "outputs": [],
   "source": [
    "import pandas as pd\n",
    "from sklearn.model_selection import train_test_split\n",
    "from sklearn.preprocessing import StandardScaler, OneHotEncoder\n",
    "from sklearn.compose import ColumnTransformer\n",
    "from sklearn.pipeline import Pipeline\n",
    "import xgboost as xgb\n",
    "from sklearn.metrics import accuracy_score, confusion_matrix, classification_report\n",
    "import dask.dataframe as dd\n",
    "\n",
    "\n",
    "\n",
    "# Cargar el dataset usando Dask para manejo eficiente de datos grandes\n",
    "ddf = dd.read_csv('fraud_detection_dataset.csv')\n",
    "\n",
    "# Optimizar tipos de datos\n",
    "ddf['step'] = ddf['step'].astype('int32')\n",
    "ddf['amount'] = ddf['amount'].astype('float32')\n",
    "ddf['oldbalanceOrg'] = ddf['oldbalanceOrg'].astype('float32')\n",
    "ddf['newbalanceOrig'] = ddf['newbalanceOrig'].astype('float32')\n",
    "ddf['oldbalanceDest'] = ddf['oldbalanceDest'].astype('float32')\n",
    "ddf['newbalanceDest'] = ddf['newbalanceDest'].astype('float32')\n",
    "ddf['isFraud'] = ddf['isFraud'].astype('int8')\n",
    "if 'IsFlaggedFraud' in ddf.columns:\n",
    "    ddf['isFlaggedFraud'] = ddf['isFlaggedFraud'].astype('int8')\n",
    "\n",
    "# Convertir Dask DataFrame a pandas DataFrame para muestreo inicial\n",
    "sample_df = ddf.sample(frac=0.1, random_state=42).compute()\n",
    "\n",
    "# Separar características y la variable objetivo\n",
    "if 'isFlaggedFraud' in sample_df.columns:\n",
    "    X = sample_df.drop(['isFraud', 'isFlaggedFraud'], axis=1)\n",
    "else:\n",
    "    X = sample_df.drop(['isFraud'], axis=1)\n",
    "y = sample_df['isFraud']\n",
    "\n",
    "# Dividir el dataset en entrenamiento y prueba\n",
    "X_train, X_test, y_train, y_test = train_test_split(X, y, test_size=0.3, random_state=42, stratify=y)\n",
    "\n",
    "# Preprocesar columnas categóricas\n",
    "column_transformer = ColumnTransformer(\n",
    "    transformers=[\n",
    "        ('num', StandardScaler(), ['step', 'amount', 'oldbalanceOrg', 'newbalanceOrig', 'oldbalanceDest', 'newbalanceDest']),\n",
    "        ('cat', OneHotEncoder(), ['type'])\n",
    "    ],\n",
    "    remainder='drop'\n",
    ")\n",
    "\n",
    "# Preprocesar los datos\n",
    "X_train = column_transformer.fit_transform(X_train)\n",
    "X_test = column_transformer.transform(X_test)\n"
   ]
  },
  {
   "cell_type": "markdown",
   "metadata": {},
   "source": [
    "## Entrenamiento del Modelo con GPU"
   ]
  },
  {
   "cell_type": "code",
   "execution_count": 4,
   "metadata": {},
   "outputs": [
    {
     "name": "stdout",
     "output_type": "stream",
     "text": [
      "Accuracy: 0.9995861252416453\n",
      "Confusion Matrix:\n",
      "[[190635      5]\n",
      " [    74    165]]\n",
      "Classification Report:\n",
      "              precision    recall  f1-score   support\n",
      "\n",
      "           0       1.00      1.00      1.00    190640\n",
      "           1       0.97      0.69      0.81       239\n",
      "\n",
      "    accuracy                           1.00    190879\n",
      "   macro avg       0.99      0.85      0.90    190879\n",
      "weighted avg       1.00      1.00      1.00    190879\n",
      "\n"
     ]
    }
   ],
   "source": [
    "# Crear el DMatrix para XGBoost\n",
    "dtrain = xgb.DMatrix(X_train, label=y_train)\n",
    "dtest = xgb.DMatrix(X_test, label=y_test)\n",
    "\n",
    "# Parámetros de XGBoost\n",
    "params = {\n",
    "    'objective': 'binary:logistic',\n",
    "    'max_depth': 4,\n",
    "    'eta': 0.1,\n",
    "    'eval_metric': 'auc',\n",
    "    'tree_method': 'hist'  # Usa 'hist' para un mejor rendimiento en CPU\n",
    "}\n",
    "\n",
    "# Entrenar el modelo\n",
    "bst = xgb.train(params, dtrain, num_boost_round=100)\n",
    "\n",
    "# Hacer predicciones\n",
    "y_pred_prob = bst.predict(dtest)\n",
    "y_pred = [1 if prob > 0.5 else 0 for prob in y_pred_prob]\n",
    "\n",
    "# Evaluación del modelo\n",
    "print(f'Accuracy: {accuracy_score(y_test, y_pred)}')\n",
    "print('Confusion Matrix:')\n",
    "print(confusion_matrix(y_test, y_pred))\n",
    "print('Classification Report:')\n",
    "print(classification_report(y_test, y_pred))\n"
   ]
  },
  {
   "cell_type": "markdown",
   "metadata": {},
   "source": [
    "## Ajuste de Hiperparámetros"
   ]
  },
  {
   "cell_type": "code",
   "execution_count": 5,
   "metadata": {},
   "outputs": [
    {
     "name": "stdout",
     "output_type": "stream",
     "text": [
      "Fitting 3 folds for each of 27 candidates, totalling 81 fits\n",
      "Mejor Score: 0.9995276861763673\n",
      "Mejores Hiperparámetros: {'learning_rate': 0.2, 'max_depth': 5, 'n_estimators': 100}\n",
      "Final Accuracy: 0.9996647090565227\n",
      "Final Confusion Matrix:\n",
      "[[190634      6]\n",
      " [    58    181]]\n",
      "Final Classification Report:\n",
      "              precision    recall  f1-score   support\n",
      "\n",
      "           0       1.00      1.00      1.00    190640\n",
      "           1       0.97      0.76      0.85       239\n",
      "\n",
      "    accuracy                           1.00    190879\n",
      "   macro avg       0.98      0.88      0.92    190879\n",
      "weighted avg       1.00      1.00      1.00    190879\n",
      "\n"
     ]
    }
   ],
   "source": [
    "from sklearn.model_selection import GridSearchCV\n",
    "\n",
    "# Definir los hiperparámetros a ajustar\n",
    "param_grid = {\n",
    "    'max_depth': [3, 4, 5],\n",
    "    'learning_rate': [0.01, 0.1, 0.2],\n",
    "    'n_estimators': [100, 200, 300]\n",
    "}\n",
    "\n",
    "# Crear el modelo base de XGBoost\n",
    "xgb_model = xgb.XGBClassifier(use_label_encoder=False, eval_metric='logloss', tree_method='hist')\n",
    "\n",
    "# Implementar GridSearchCV\n",
    "grid_search = GridSearchCV(estimator=xgb_model, param_grid=param_grid, scoring='roc_auc', cv=3, n_jobs=-1, verbose=2)\n",
    "grid_search.fit(X_train, y_train)\n",
    "\n",
    "# Mejor modelo y sus parámetros\n",
    "print(f'Mejor Score: {grid_search.best_score_}')\n",
    "print(f'Mejores Hiperparámetros: {grid_search.best_params_}')\n",
    "\n",
    "# Reentrenar con los mejores parámetros\n",
    "best_params = grid_search.best_params_\n",
    "final_model = xgb.XGBClassifier(**best_params, use_label_encoder=False, eval_metric='logloss', tree_method='hist')\n",
    "final_model.fit(X_train, y_train)\n",
    "\n",
    "# Predicciones y evaluación final\n",
    "final_y_pred_prob = final_model.predict_proba(X_test)[:, 1]\n",
    "final_y_pred = [1 if prob > 0.5 else 0 for prob in final_y_pred_prob]\n",
    "\n",
    "print(f'Final Accuracy: {accuracy_score(y_test, final_y_pred)}')\n",
    "print('Final Confusion Matrix:')\n",
    "print(confusion_matrix(y_test, final_y_pred))\n",
    "print('Final Classification Report:')\n",
    "print(classification_report(y_test, final_y_pred))\n"
   ]
  },
  {
   "cell_type": "markdown",
   "metadata": {},
   "source": [
    "## Interpretación del Modelo"
   ]
  },
  {
   "cell_type": "code",
   "execution_count": 6,
   "metadata": {},
   "outputs": [
    {
     "data": {
      "image/png": "[encoded data removed]",
      "text/plain": [
       "<Figure size 640x480 with 1 Axes>"
      ]
     },
     "metadata": {},
     "output_type": "display_data"
    }
   ],
   "source": [
    "import matplotlib.pyplot as plt\n",
    "\n",
    "# Importancia de características\n",
    "xgb.plot_importance(final_model)\n",
    "plt.show()\n"
   ]
  }
 ],
 "metadata": {
  "kernelspec": {
   "display_name": "Python 3",
   "language": "python",
   "name": "python3"
  },
  "language_info": {
   "codemirror_mode": {
    "name": "ipython",
    "version": 3
   },
   "file_extension": ".py",
   "mimetype": "text/x-python",
   "name": "python",
   "nbconvert_exporter": "python",
   "pygments_lexer": "ipython3",
   "version": "3.12.3"
  }
 },
 "nbformat": 4,
 "nbformat_minor": 2
}
